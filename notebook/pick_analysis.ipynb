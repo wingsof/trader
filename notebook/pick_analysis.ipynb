{
 "cells": [
  {
   "cell_type": "code",
   "execution_count": 3,
   "metadata": {},
   "outputs": [
    {
     "data": {
      "text/plain": [
       "'/home/nnnlife/workspace/trader/notebook'"
      ]
     },
     "execution_count": 3,
     "metadata": {},
     "output_type": "execute_result"
    }
   ],
   "source": [
    "import pandas as pd\n",
    "import os\n",
    "import numpy as np\n",
    "os.getcwd()"
   ]
  },
  {
   "cell_type": "code",
   "execution_count": 4,
   "metadata": {},
   "outputs": [],
   "source": [
    "df = pd.read_excel('../sample_data/picker_20200320_1.xlsx')"
   ]
  },
  {
   "cell_type": "code",
   "execution_count": 5,
   "metadata": {},
   "outputs": [
    {
     "data": {
      "text/html": [
       "<div>\n",
       "<style scoped>\n",
       "    .dataframe tbody tr th:only-of-type {\n",
       "        vertical-align: middle;\n",
       "    }\n",
       "\n",
       "    .dataframe tbody tr th {\n",
       "        vertical-align: top;\n",
       "    }\n",
       "\n",
       "    .dataframe thead th {\n",
       "        text-align: right;\n",
       "    }\n",
       "</style>\n",
       "<table border=\"1\" class=\"dataframe\">\n",
       "  <thead>\n",
       "    <tr style=\"text-align: right;\">\n",
       "      <th></th>\n",
       "      <th>Unnamed: 0</th>\n",
       "      <th>time</th>\n",
       "      <th>code</th>\n",
       "      <th>tick_len</th>\n",
       "      <th>highest_profit</th>\n",
       "      <th>lowest_profit</th>\n",
       "      <th>highest_arrive_time</th>\n",
       "      <th>lowest_arrive_time</th>\n",
       "      <th>mean_profit</th>\n",
       "      <th>amount</th>\n",
       "      <th>pick_profit</th>\n",
       "      <th>profit_std</th>\n",
       "      <th>past_max_volume</th>\n",
       "      <th>volume</th>\n",
       "    </tr>\n",
       "  </thead>\n",
       "  <tbody>\n",
       "    <tr>\n",
       "      <th>0</th>\n",
       "      <td>0</td>\n",
       "      <td>2020-03-20 09:00:16.525</td>\n",
       "      <td>A058110</td>\n",
       "      <td>3079</td>\n",
       "      <td>3.107020</td>\n",
       "      <td>-6.559264</td>\n",
       "      <td>18.811</td>\n",
       "      <td>282.378</td>\n",
       "      <td>-1.225608</td>\n",
       "      <td>115420070</td>\n",
       "      <td>1.875733</td>\n",
       "      <td>2.172756</td>\n",
       "      <td>3342.433333</td>\n",
       "      <td>13437</td>\n",
       "    </tr>\n",
       "    <tr>\n",
       "      <th>1</th>\n",
       "      <td>1</td>\n",
       "      <td>2020-03-20 09:00:28.654</td>\n",
       "      <td>A046890</td>\n",
       "      <td>231</td>\n",
       "      <td>1.421801</td>\n",
       "      <td>-0.473934</td>\n",
       "      <td>9.186</td>\n",
       "      <td>24.120</td>\n",
       "      <td>0.492399</td>\n",
       "      <td>136967400</td>\n",
       "      <td>1.421801</td>\n",
       "      <td>0.458976</td>\n",
       "      <td>1869.783333</td>\n",
       "      <td>12835</td>\n",
       "    </tr>\n",
       "    <tr>\n",
       "      <th>2</th>\n",
       "      <td>2</td>\n",
       "      <td>2020-03-20 09:00:39.991</td>\n",
       "      <td>A000990</td>\n",
       "      <td>274</td>\n",
       "      <td>2.215190</td>\n",
       "      <td>-1.265823</td>\n",
       "      <td>125.875</td>\n",
       "      <td>18.880</td>\n",
       "      <td>0.310681</td>\n",
       "      <td>104939950</td>\n",
       "      <td>0.632911</td>\n",
       "      <td>0.889524</td>\n",
       "      <td>1313.450000</td>\n",
       "      <td>6622</td>\n",
       "    </tr>\n",
       "    <tr>\n",
       "      <th>3</th>\n",
       "      <td>3</td>\n",
       "      <td>2020-03-20 09:01:04.365</td>\n",
       "      <td>A115450</td>\n",
       "      <td>457</td>\n",
       "      <td>0.000000</td>\n",
       "      <td>-5.980066</td>\n",
       "      <td>0.000</td>\n",
       "      <td>168.130</td>\n",
       "      <td>-2.408456</td>\n",
       "      <td>153078900</td>\n",
       "      <td>1.333333</td>\n",
       "      <td>1.617562</td>\n",
       "      <td>916.450000</td>\n",
       "      <td>10122</td>\n",
       "    </tr>\n",
       "    <tr>\n",
       "      <th>4</th>\n",
       "      <td>4</td>\n",
       "      <td>2020-03-20 09:01:12.900</td>\n",
       "      <td>A005320</td>\n",
       "      <td>212</td>\n",
       "      <td>0.000000</td>\n",
       "      <td>-10.652921</td>\n",
       "      <td>0.000</td>\n",
       "      <td>126.563</td>\n",
       "      <td>-5.094664</td>\n",
       "      <td>138990585</td>\n",
       "      <td>1.041667</td>\n",
       "      <td>2.467290</td>\n",
       "      <td>13676.333333</td>\n",
       "      <td>95801</td>\n",
       "    </tr>\n",
       "    <tr>\n",
       "      <th>...</th>\n",
       "      <td>...</td>\n",
       "      <td>...</td>\n",
       "      <td>...</td>\n",
       "      <td>...</td>\n",
       "      <td>...</td>\n",
       "      <td>...</td>\n",
       "      <td>...</td>\n",
       "      <td>...</td>\n",
       "      <td>...</td>\n",
       "      <td>...</td>\n",
       "      <td>...</td>\n",
       "      <td>...</td>\n",
       "      <td>...</td>\n",
       "      <td>...</td>\n",
       "    </tr>\n",
       "    <tr>\n",
       "      <th>112</th>\n",
       "      <td>112</td>\n",
       "      <td>2020-03-20 14:31:55.508</td>\n",
       "      <td>A011200</td>\n",
       "      <td>45</td>\n",
       "      <td>0.208333</td>\n",
       "      <td>-0.416667</td>\n",
       "      <td>4.381</td>\n",
       "      <td>220.497</td>\n",
       "      <td>-0.120370</td>\n",
       "      <td>124288775</td>\n",
       "      <td>0.628931</td>\n",
       "      <td>0.172853</td>\n",
       "      <td>1717.633333</td>\n",
       "      <td>51919</td>\n",
       "    </tr>\n",
       "    <tr>\n",
       "      <th>113</th>\n",
       "      <td>113</td>\n",
       "      <td>2020-03-20 14:31:58.939</td>\n",
       "      <td>A011200</td>\n",
       "      <td>45</td>\n",
       "      <td>0.208333</td>\n",
       "      <td>-0.416667</td>\n",
       "      <td>4.381</td>\n",
       "      <td>220.497</td>\n",
       "      <td>-0.120370</td>\n",
       "      <td>124288775</td>\n",
       "      <td>0.628931</td>\n",
       "      <td>0.172853</td>\n",
       "      <td>1717.633333</td>\n",
       "      <td>51919</td>\n",
       "    </tr>\n",
       "    <tr>\n",
       "      <th>114</th>\n",
       "      <td>114</td>\n",
       "      <td>2020-03-20 14:32:00.520</td>\n",
       "      <td>A011200</td>\n",
       "      <td>45</td>\n",
       "      <td>0.208333</td>\n",
       "      <td>-0.416667</td>\n",
       "      <td>4.381</td>\n",
       "      <td>220.497</td>\n",
       "      <td>-0.120370</td>\n",
       "      <td>124288775</td>\n",
       "      <td>0.628931</td>\n",
       "      <td>0.172853</td>\n",
       "      <td>1717.633333</td>\n",
       "      <td>51919</td>\n",
       "    </tr>\n",
       "    <tr>\n",
       "      <th>115</th>\n",
       "      <td>115</td>\n",
       "      <td>2020-03-20 14:34:04.192</td>\n",
       "      <td>A247540</td>\n",
       "      <td>207</td>\n",
       "      <td>1.032702</td>\n",
       "      <td>-0.172117</td>\n",
       "      <td>201.006</td>\n",
       "      <td>3.936</td>\n",
       "      <td>0.680153</td>\n",
       "      <td>291125200</td>\n",
       "      <td>0.689655</td>\n",
       "      <td>0.243856</td>\n",
       "      <td>860.383333</td>\n",
       "      <td>5006</td>\n",
       "    </tr>\n",
       "    <tr>\n",
       "      <th>116</th>\n",
       "      <td>116</td>\n",
       "      <td>2020-03-20 14:55:15.206</td>\n",
       "      <td>A047040</td>\n",
       "      <td>183</td>\n",
       "      <td>0.410678</td>\n",
       "      <td>-0.205339</td>\n",
       "      <td>235.313</td>\n",
       "      <td>10.252</td>\n",
       "      <td>0.062836</td>\n",
       "      <td>118657245</td>\n",
       "      <td>0.619835</td>\n",
       "      <td>0.180154</td>\n",
       "      <td>3082.716667</td>\n",
       "      <td>48821</td>\n",
       "    </tr>\n",
       "  </tbody>\n",
       "</table>\n",
       "<p>117 rows × 14 columns</p>\n",
       "</div>"
      ],
      "text/plain": [
       "     Unnamed: 0                    time     code  tick_len  highest_profit  \\\n",
       "0             0 2020-03-20 09:00:16.525  A058110      3079        3.107020   \n",
       "1             1 2020-03-20 09:00:28.654  A046890       231        1.421801   \n",
       "2             2 2020-03-20 09:00:39.991  A000990       274        2.215190   \n",
       "3             3 2020-03-20 09:01:04.365  A115450       457        0.000000   \n",
       "4             4 2020-03-20 09:01:12.900  A005320       212        0.000000   \n",
       "..          ...                     ...      ...       ...             ...   \n",
       "112         112 2020-03-20 14:31:55.508  A011200        45        0.208333   \n",
       "113         113 2020-03-20 14:31:58.939  A011200        45        0.208333   \n",
       "114         114 2020-03-20 14:32:00.520  A011200        45        0.208333   \n",
       "115         115 2020-03-20 14:34:04.192  A247540       207        1.032702   \n",
       "116         116 2020-03-20 14:55:15.206  A047040       183        0.410678   \n",
       "\n",
       "     lowest_profit  highest_arrive_time  lowest_arrive_time  mean_profit  \\\n",
       "0        -6.559264               18.811             282.378    -1.225608   \n",
       "1        -0.473934                9.186              24.120     0.492399   \n",
       "2        -1.265823              125.875              18.880     0.310681   \n",
       "3        -5.980066                0.000             168.130    -2.408456   \n",
       "4       -10.652921                0.000             126.563    -5.094664   \n",
       "..             ...                  ...                 ...          ...   \n",
       "112      -0.416667                4.381             220.497    -0.120370   \n",
       "113      -0.416667                4.381             220.497    -0.120370   \n",
       "114      -0.416667                4.381             220.497    -0.120370   \n",
       "115      -0.172117              201.006               3.936     0.680153   \n",
       "116      -0.205339              235.313              10.252     0.062836   \n",
       "\n",
       "        amount  pick_profit  profit_std  past_max_volume  volume  \n",
       "0    115420070     1.875733    2.172756      3342.433333   13437  \n",
       "1    136967400     1.421801    0.458976      1869.783333   12835  \n",
       "2    104939950     0.632911    0.889524      1313.450000    6622  \n",
       "3    153078900     1.333333    1.617562       916.450000   10122  \n",
       "4    138990585     1.041667    2.467290     13676.333333   95801  \n",
       "..         ...          ...         ...              ...     ...  \n",
       "112  124288775     0.628931    0.172853      1717.633333   51919  \n",
       "113  124288775     0.628931    0.172853      1717.633333   51919  \n",
       "114  124288775     0.628931    0.172853      1717.633333   51919  \n",
       "115  291125200     0.689655    0.243856       860.383333    5006  \n",
       "116  118657245     0.619835    0.180154      3082.716667   48821  \n",
       "\n",
       "[117 rows x 14 columns]"
      ]
     },
     "execution_count": 5,
     "metadata": {},
     "output_type": "execute_result"
    }
   ],
   "source": [
    "df"
   ]
  },
  {
   "cell_type": "code",
   "execution_count": 6,
   "metadata": {},
   "outputs": [
    {
     "data": {
      "text/plain": [
       "117"
      ]
     },
     "execution_count": 6,
     "metadata": {},
     "output_type": "execute_result"
    }
   ],
   "source": [
    "len(df)"
   ]
  },
  {
   "cell_type": "code",
   "execution_count": 12,
   "metadata": {},
   "outputs": [
    {
     "data": {
      "text/plain": [
       "24"
      ]
     },
     "execution_count": 12,
     "metadata": {},
     "output_type": "execute_result"
    }
   ],
   "source": [
    "len(df[(df['highest_profit'] >= 1.0) & (df['highest_arrive_time'] < df['lowest_arrive_time'])])"
   ]
  },
  {
   "cell_type": "code",
   "execution_count": 13,
   "metadata": {},
   "outputs": [
    {
     "data": {
      "text/plain": [
       "30"
      ]
     },
     "execution_count": 13,
     "metadata": {},
     "output_type": "execute_result"
    }
   ],
   "source": [
    "len(df[(df['highest_profit'] >= 1.0) & (df['highest_arrive_time'] > df['lowest_arrive_time'])])"
   ]
  },
  {
   "cell_type": "code",
   "execution_count": 14,
   "metadata": {},
   "outputs": [
    {
     "data": {
      "text/plain": [
       "27"
      ]
     },
     "execution_count": 14,
     "metadata": {},
     "output_type": "execute_result"
    }
   ],
   "source": [
    "len(df[(df['highest_profit'] < 1.0) & (df['lowest_profit'] < -1.0)])"
   ]
  },
  {
   "cell_type": "code",
   "execution_count": 15,
   "metadata": {},
   "outputs": [
    {
     "data": {
      "text/plain": [
       "17"
      ]
     },
     "execution_count": 15,
     "metadata": {},
     "output_type": "execute_result"
    }
   ],
   "source": [
    "len(df[(df['highest_profit'] < 1.0) & (df['lowest_profit'] < -2.0)])"
   ]
  },
  {
   "cell_type": "code",
   "execution_count": 11,
   "metadata": {},
   "outputs": [
    {
     "data": {
      "text/plain": [
       "22"
      ]
     },
     "execution_count": 11,
     "metadata": {},
     "output_type": "execute_result"
    }
   ],
   "source": [
    "len(df[(df['highest_profit'] >= 1.0) & (df['highest_arrive_time'] > df['lowest_arrive_time']) & (df['lowest_profit'] > -1.0)])"
   ]
  },
  {
   "cell_type": "code",
   "execution_count": 16,
   "metadata": {},
   "outputs": [],
   "source": [
    "low_first_df = df[(df['highest_profit'] >= 1.0) & (df['highest_arrive_time'] > df['lowest_arrive_time'])]"
   ]
  },
  {
   "cell_type": "code",
   "execution_count": 18,
   "metadata": {},
   "outputs": [
    {
     "data": {
      "text/plain": [
       "(-0.6353995539263689, -2.325581395348837)"
      ]
     },
     "execution_count": 18,
     "metadata": {},
     "output_type": "execute_result"
    }
   ],
   "source": [
    "low_first_df['lowest_profit'].mean(), low_first_df['lowest_profit'].min()"
   ]
  },
  {
   "cell_type": "code",
   "execution_count": null,
   "metadata": {},
   "outputs": [],
   "source": []
  }
 ],
 "metadata": {
  "kernelspec": {
   "display_name": "Python 3",
   "language": "python",
   "name": "python3"
  },
  "language_info": {
   "codemirror_mode": {
    "name": "ipython",
    "version": 3
   },
   "file_extension": ".py",
   "mimetype": "text/x-python",
   "name": "python",
   "nbconvert_exporter": "python",
   "pygments_lexer": "ipython3",
   "version": "3.6.10"
  }
 },
 "nbformat": 4,
 "nbformat_minor": 2
}
