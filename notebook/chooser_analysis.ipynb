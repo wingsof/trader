{
 "cells": [
  {
   "cell_type": "code",
   "execution_count": 1,
   "metadata": {},
   "outputs": [],
   "source": [
    "import pandas as pd\n",
    "import numpy as np"
   ]
  },
  {
   "cell_type": "code",
   "execution_count": 2,
   "metadata": {},
   "outputs": [],
   "source": [
    "df = pd.read_excel('../sample_data/kosdaq_yesterday_amount_rank.xlsx')"
   ]
  },
  {
   "cell_type": "code",
   "execution_count": 3,
   "metadata": {},
   "outputs": [],
   "source": [
    "from datetime import datetime\n",
    "now = datetime.now()\n",
    "df['hour_min'] = df['highest_time'].apply(lambda x: datetime(now.year, now.month, now.day, x.hour, x.minute))\n",
    "df['month'] = df['highest_time'].apply(lambda x: x.month)"
   ]
  },
  {
   "cell_type": "code",
   "execution_count": 4,
   "metadata": {},
   "outputs": [
    {
     "data": {
      "text/html": [
       "<div>\n",
       "<style scoped>\n",
       "    .dataframe tbody tr th:only-of-type {\n",
       "        vertical-align: middle;\n",
       "    }\n",
       "\n",
       "    .dataframe tbody tr th {\n",
       "        vertical-align: top;\n",
       "    }\n",
       "\n",
       "    .dataframe thead th {\n",
       "        text-align: right;\n",
       "    }\n",
       "</style>\n",
       "<table border=\"1\" class=\"dataframe\">\n",
       "  <thead>\n",
       "    <tr style=\"text-align: right;\">\n",
       "      <th></th>\n",
       "      <th>Unnamed: 0</th>\n",
       "      <th>date</th>\n",
       "      <th>code</th>\n",
       "      <th>profit</th>\n",
       "      <th>highest_time</th>\n",
       "      <th>yesterday_rank</th>\n",
       "      <th>hour_min</th>\n",
       "      <th>month</th>\n",
       "    </tr>\n",
       "  </thead>\n",
       "  <tbody>\n",
       "    <tr>\n",
       "      <th>0</th>\n",
       "      <td>0</td>\n",
       "      <td>2019-01-02</td>\n",
       "      <td>A000250</td>\n",
       "      <td>-3.29</td>\n",
       "      <td>2019-01-02 10:35:00</td>\n",
       "      <td>110</td>\n",
       "      <td>2020-01-07 10:35:00</td>\n",
       "      <td>1</td>\n",
       "    </tr>\n",
       "    <tr>\n",
       "      <th>1</th>\n",
       "      <td>1</td>\n",
       "      <td>2019-01-02</td>\n",
       "      <td>A000440</td>\n",
       "      <td>0.30</td>\n",
       "      <td>2019-01-02 10:06:00</td>\n",
       "      <td>379</td>\n",
       "      <td>2020-01-07 10:06:00</td>\n",
       "      <td>1</td>\n",
       "    </tr>\n",
       "    <tr>\n",
       "      <th>2</th>\n",
       "      <td>2</td>\n",
       "      <td>2019-01-02</td>\n",
       "      <td>A001000</td>\n",
       "      <td>0.23</td>\n",
       "      <td>2019-01-02 10:09:00</td>\n",
       "      <td>1002</td>\n",
       "      <td>2020-01-07 10:09:00</td>\n",
       "      <td>1</td>\n",
       "    </tr>\n",
       "    <tr>\n",
       "      <th>3</th>\n",
       "      <td>3</td>\n",
       "      <td>2019-01-02</td>\n",
       "      <td>A001540</td>\n",
       "      <td>-1.52</td>\n",
       "      <td>2019-01-02 10:42:00</td>\n",
       "      <td>762</td>\n",
       "      <td>2020-01-07 10:42:00</td>\n",
       "      <td>1</td>\n",
       "    </tr>\n",
       "    <tr>\n",
       "      <th>4</th>\n",
       "      <td>4</td>\n",
       "      <td>2019-01-02</td>\n",
       "      <td>A001810</td>\n",
       "      <td>-0.37</td>\n",
       "      <td>2019-01-02 10:20:00</td>\n",
       "      <td>1116</td>\n",
       "      <td>2020-01-07 10:20:00</td>\n",
       "      <td>1</td>\n",
       "    </tr>\n",
       "    <tr>\n",
       "      <th>...</th>\n",
       "      <td>...</td>\n",
       "      <td>...</td>\n",
       "      <td>...</td>\n",
       "      <td>...</td>\n",
       "      <td>...</td>\n",
       "      <td>...</td>\n",
       "      <td>...</td>\n",
       "      <td>...</td>\n",
       "    </tr>\n",
       "    <tr>\n",
       "      <th>312967</th>\n",
       "      <td>312967</td>\n",
       "      <td>2019-12-27</td>\n",
       "      <td>A336570</td>\n",
       "      <td>0.00</td>\n",
       "      <td>2019-12-27 09:26:00</td>\n",
       "      <td>1134</td>\n",
       "      <td>2020-01-07 09:26:00</td>\n",
       "      <td>12</td>\n",
       "    </tr>\n",
       "    <tr>\n",
       "      <th>312968</th>\n",
       "      <td>312968</td>\n",
       "      <td>2019-12-27</td>\n",
       "      <td>A337450</td>\n",
       "      <td>0.25</td>\n",
       "      <td>2019-12-27 09:04:00</td>\n",
       "      <td>1322</td>\n",
       "      <td>2020-01-07 09:04:00</td>\n",
       "      <td>12</td>\n",
       "    </tr>\n",
       "    <tr>\n",
       "      <th>312969</th>\n",
       "      <td>312969</td>\n",
       "      <td>2019-12-27</td>\n",
       "      <td>A339950</td>\n",
       "      <td>0.25</td>\n",
       "      <td>2019-12-27 09:03:00</td>\n",
       "      <td>1096</td>\n",
       "      <td>2020-01-07 09:03:00</td>\n",
       "      <td>12</td>\n",
       "    </tr>\n",
       "    <tr>\n",
       "      <th>312970</th>\n",
       "      <td>312970</td>\n",
       "      <td>2019-12-27</td>\n",
       "      <td>A340120</td>\n",
       "      <td>0.25</td>\n",
       "      <td>2019-12-27 09:03:00</td>\n",
       "      <td>1128</td>\n",
       "      <td>2020-01-07 09:03:00</td>\n",
       "      <td>12</td>\n",
       "    </tr>\n",
       "    <tr>\n",
       "      <th>312971</th>\n",
       "      <td>312971</td>\n",
       "      <td>2019-12-27</td>\n",
       "      <td>A340360</td>\n",
       "      <td>0.00</td>\n",
       "      <td>2019-12-27 10:06:00</td>\n",
       "      <td>1281</td>\n",
       "      <td>2020-01-07 10:06:00</td>\n",
       "      <td>12</td>\n",
       "    </tr>\n",
       "  </tbody>\n",
       "</table>\n",
       "<p>312972 rows × 8 columns</p>\n",
       "</div>"
      ],
      "text/plain": [
       "        Unnamed: 0       date     code  profit        highest_time  \\\n",
       "0                0 2019-01-02  A000250   -3.29 2019-01-02 10:35:00   \n",
       "1                1 2019-01-02  A000440    0.30 2019-01-02 10:06:00   \n",
       "2                2 2019-01-02  A001000    0.23 2019-01-02 10:09:00   \n",
       "3                3 2019-01-02  A001540   -1.52 2019-01-02 10:42:00   \n",
       "4                4 2019-01-02  A001810   -0.37 2019-01-02 10:20:00   \n",
       "...            ...        ...      ...     ...                 ...   \n",
       "312967      312967 2019-12-27  A336570    0.00 2019-12-27 09:26:00   \n",
       "312968      312968 2019-12-27  A337450    0.25 2019-12-27 09:04:00   \n",
       "312969      312969 2019-12-27  A339950    0.25 2019-12-27 09:03:00   \n",
       "312970      312970 2019-12-27  A340120    0.25 2019-12-27 09:03:00   \n",
       "312971      312971 2019-12-27  A340360    0.00 2019-12-27 10:06:00   \n",
       "\n",
       "        yesterday_rank            hour_min  month  \n",
       "0                  110 2020-01-07 10:35:00      1  \n",
       "1                  379 2020-01-07 10:06:00      1  \n",
       "2                 1002 2020-01-07 10:09:00      1  \n",
       "3                  762 2020-01-07 10:42:00      1  \n",
       "4                 1116 2020-01-07 10:20:00      1  \n",
       "...                ...                 ...    ...  \n",
       "312967            1134 2020-01-07 09:26:00     12  \n",
       "312968            1322 2020-01-07 09:04:00     12  \n",
       "312969            1096 2020-01-07 09:03:00     12  \n",
       "312970            1128 2020-01-07 09:03:00     12  \n",
       "312971            1281 2020-01-07 10:06:00     12  \n",
       "\n",
       "[312972 rows x 8 columns]"
      ]
     },
     "execution_count": 4,
     "metadata": {},
     "output_type": "execute_result"
    }
   ],
   "source": [
    "df"
   ]
  },
  {
   "cell_type": "code",
   "execution_count": 5,
   "metadata": {},
   "outputs": [
    {
     "data": {
      "text/plain": [
       "138.7"
      ]
     },
     "execution_count": 5,
     "metadata": {},
     "output_type": "execute_result"
    }
   ],
   "source": [
    "rank_div_step = 10\n",
    "df['yesterday_rank'].max() / rank_div_step"
   ]
  },
  {
   "cell_type": "code",
   "execution_count": 6,
   "metadata": {},
   "outputs": [],
   "source": [
    "bins = pd.cut(df['yesterday_rank'], np.arange(0, df['yesterday_rank'].max(), df['yesterday_rank'].max() / rank_div_step))"
   ]
  },
  {
   "cell_type": "code",
   "execution_count": 7,
   "metadata": {
    "scrolled": true
   },
   "outputs": [
    {
     "name": "stdout",
     "output_type": "stream",
     "text": [
      "(0.0, 138.7] 0.17887402739373673 4.086806692057703\n",
      "(138.7, 277.4] 0.1384400965729157 3.7121166982937175\n",
      "(277.4, 416.1] 0.10525063211125159 3.7600967501911837\n",
      "(416.1, 554.8] 0.07752087541072558 3.6628794038920667\n",
      "(554.8, 693.5] 0.04892921632358252 3.5119320631511575\n",
      "(693.5, 832.2] 0.031639838427684336 3.476987016367526\n",
      "(832.2, 970.9] 0.02728094029489968 3.2968578374410744\n",
      "(970.9, 1109.6] 0.0011534101080016902 2.991102329749819\n",
      "(1109.6, 1248.3] -0.019247834158415834 2.745858923921017\n"
     ]
    }
   ],
   "source": [
    "for name, group in df.groupby(bins):\n",
    "    print(name, group['profit'].mean(), group['profit'].std())"
   ]
  },
  {
   "cell_type": "code",
   "execution_count": 8,
   "metadata": {},
   "outputs": [
    {
     "data": {
      "text/plain": [
       "0.17887402739373673"
      ]
     },
     "execution_count": 8,
     "metadata": {},
     "output_type": "execute_result"
    }
   ],
   "source": [
    "df.loc[df['yesterday_rank'] < 138.7, 'profit'].mean()"
   ]
  },
  {
   "cell_type": "code",
   "execution_count": 9,
   "metadata": {},
   "outputs": [
    {
     "name": "stdout",
     "output_type": "stream",
     "text": [
      "1 0.47314519897904156 3.2289537297557485\n",
      "2 0.06056147865356859 3.317686598068372\n",
      "3 0.08898405268168834 3.3852578416195134\n",
      "4 0.26939074484714093 2.978601260903953\n",
      "5 -0.2708531039187448 3.568029654417832\n",
      "6 0.15656008637156385 3.3179432665960813\n",
      "7 -0.3953101490904117 3.7193634440113277\n",
      "8 -0.04362513945704726 4.272441325749747\n",
      "9 0.16840682671892868 3.3270482271001285\n",
      "10 0.12831580882352944 3.2997967562514297\n",
      "11 -0.02523262993498709 3.344186044549487\n",
      "12 0.12258475250676427 3.1556711046537114\n"
     ]
    }
   ],
   "source": [
    "for name, group in df.groupby('month'):\n",
    "    print(name, group['profit'].mean(), group['profit'].std())"
   ]
  },
  {
   "cell_type": "code",
   "execution_count": 10,
   "metadata": {},
   "outputs": [
    {
     "name": "stdout",
     "output_type": "stream",
     "text": [
      "10 : 0.34083671399594323\n",
      "15 : 0.3325967036663303\n",
      "20 : 0.30543890715911964\n",
      "25 : 0.26206358849736733\n",
      "30 : 0.253873983036178\n",
      "35 : 0.27211473234036276\n",
      "40 : 0.21653142709943324\n",
      "45 : 0.22672488597174326\n",
      "50 : 0.24982705188443471\n",
      "55 : 0.2521713573209832\n",
      "60 : 0.2464027040077257\n",
      "65 : 0.23248620432513048\n",
      "70 : 0.21991527160915614\n",
      "75 : 0.21266456494325345\n",
      "80 : 0.21145976002341235\n",
      "85 : 0.21614636810486074\n",
      "90 : 0.20888098285129256\n",
      "95 : 0.20062764932562618\n",
      "100 : 0.2030040047328661\n",
      "105 : 0.19579367821055355\n",
      "110 : 0.18703399909773205\n",
      "115 : 0.18553669869270753\n",
      "120 : 0.183547392563071\n",
      "125 : 0.17789616008653325\n",
      "130 : 0.16921573367406847\n",
      "135 : 0.179409401766151\n",
      "140 : 0.17751363766867645\n",
      "145 : 0.17096289670912623\n",
      "150 : 0.16670796672053628\n",
      "155 : 0.1678456899301226\n",
      "160 : 0.17153693229545838\n",
      "165 : 0.17301632421018437\n",
      "170 : 0.17363876952101456\n",
      "175 : 0.1774384738976308\n",
      "180 : 0.17688968360403318\n",
      "185 : 0.1762206117601435\n",
      "190 : 0.17360442665410877\n",
      "195 : 0.1742238242361826\n"
     ]
    }
   ],
   "source": [
    "for i in range(10, 200, 5):\n",
    "    print(i, ':', df.loc[df['yesterday_rank'] < i, 'profit'].mean())"
   ]
  },
  {
   "cell_type": "code",
   "execution_count": 11,
   "metadata": {},
   "outputs": [
    {
     "name": "stderr",
     "output_type": "stream",
     "text": [
      "c:\\users\\nnnli\\appdata\\local\\programs\\python\\python37-32\\lib\\site-packages\\pandas\\plotting\\_matplotlib\\converter.py:103: FutureWarning: Using an implicitly registered datetime converter for a matplotlib plotting method. The converter was registered by pandas on import. Future versions of pandas will require you to explicitly register matplotlib converters.\n",
      "\n",
      "To register the converters:\n",
      "\t>>> from pandas.plotting import register_matplotlib_converters\n",
      "\t>>> register_matplotlib_converters()\n",
      "  warnings.warn(msg, FutureWarning)\n"
     ]
    },
    {
     "data": {
      "text/plain": [
       "<matplotlib.axes._subplots.AxesSubplot at 0x1839c230>"
      ]
     },
     "execution_count": 11,
     "metadata": {},
     "output_type": "execute_result"
    },
    {
     "data": {
      "image/png": "[encoded data removed]",
      "text/plain": [
       "<Figure size 432x288 with 1 Axes>"
      ]
     },
     "metadata": {
      "needs_background": "light"
     },
     "output_type": "display_data"
    }
   ],
   "source": [
    "df.loc[df['yesterday_rank'] < 20, 'hour_min'].hist()"
   ]
  },
  {
   "cell_type": "code",
   "execution_count": 12,
   "metadata": {},
   "outputs": [
    {
     "data": {
      "text/plain": [
       "0.30543890715911964"
      ]
     },
     "execution_count": 12,
     "metadata": {},
     "output_type": "execute_result"
    }
   ],
   "source": [
    "df.loc[df['yesterday_rank'] < 20, 'profit'].mean()"
   ]
  },
  {
   "cell_type": "code",
   "execution_count": 13,
   "metadata": {},
   "outputs": [
    {
     "name": "stdout",
     "output_type": "stream",
     "text": [
      "1 0.3880459770114943 3.174165159531939\n",
      "2 0.22891420911528143 3.3920585482141847\n",
      "3 0.17676136363636358 3.4649280185644944\n",
      "4 0.39344202898550723 3.4642851163595\n",
      "5 -0.14325517993456927 3.9289035176977753\n",
      "6 -0.16664497041420118 3.90289331708066\n",
      "7 -0.2074601641718976 4.045792544636167\n",
      "8 -0.05178963893249615 4.908342821793178\n",
      "9 0.27581260844418737 3.8789065048280573\n",
      "10 0.762186680650236 5.039330056613351\n",
      "11 0.16003623188405794 4.75503875119401\n",
      "12 0.6319311875693674 5.718404436076588\n"
     ]
    }
   ],
   "source": [
    "high_rank = df[df['yesterday_rank'] < 100]\n",
    "for name, group in high_rank.groupby('month'):\n",
    "    print(name, group['profit'].mean(), group['profit'].std())"
   ]
  },
  {
   "cell_type": "code",
   "execution_count": 14,
   "metadata": {},
   "outputs": [
    {
     "data": {
      "text/plain": [
       "<matplotlib.axes._subplots.AxesSubplot at 0x185e3610>"
      ]
     },
     "execution_count": 14,
     "metadata": {},
     "output_type": "execute_result"
    },
    {
     "data": {
      "image/png": "[encoded data removed]",
      "text/plain": [
       "<Figure size 432x288 with 1 Axes>"
      ]
     },
     "metadata": {
      "needs_background": "light"
     },
     "output_type": "display_data"
    }
   ],
   "source": [
    "df['hour_min'].hist()"
   ]
  },
  {
   "cell_type": "code",
   "execution_count": 15,
   "metadata": {},
   "outputs": [
    {
     "data": {
      "text/plain": [
       "<matplotlib.axes._subplots.AxesSubplot at 0x18d30490>"
      ]
     },
     "execution_count": 15,
     "metadata": {},
     "output_type": "execute_result"
    },
    {
     "data": {
      "image/png": "[encoded data removed]",
      "text/plain": [
       "<Figure size 432x288 with 1 Axes>"
      ]
     },
     "metadata": {
      "needs_background": "light"
     },
     "output_type": "display_data"
    }
   ],
   "source": [
    "high_rank['hour_min'].hist()"
   ]
  },
  {
   "cell_type": "code",
   "execution_count": 16,
   "metadata": {},
   "outputs": [],
   "source": [
    "profit_df = df[df['profit'] > 0]"
   ]
  },
  {
   "cell_type": "code",
   "execution_count": 17,
   "metadata": {},
   "outputs": [
    {
     "data": {
      "text/plain": [
       "<matplotlib.axes._subplots.AxesSubplot at 0x18f57810>"
      ]
     },
     "execution_count": 17,
     "metadata": {},
     "output_type": "execute_result"
    },
    {
     "data": {
      "image/png": "[encoded data removed]",
      "text/plain": [
       "<Figure size 432x288 with 1 Axes>"
      ]
     },
     "metadata": {
      "needs_background": "light"
     },
     "output_type": "display_data"
    }
   ],
   "source": [
    "profit_df['hour_min'].hist(bins=100)"
   ]
  },
  {
   "cell_type": "code",
   "execution_count": 18,
   "metadata": {},
   "outputs": [],
   "source": [
    "minus_profit_df = df[df['profit'] < 0]"
   ]
  },
  {
   "cell_type": "code",
   "execution_count": 19,
   "metadata": {
    "scrolled": true
   },
   "outputs": [
    {
     "data": {
      "text/plain": [
       "<matplotlib.axes._subplots.AxesSubplot at 0x1a089910>"
      ]
     },
     "execution_count": 19,
     "metadata": {},
     "output_type": "execute_result"
    },
    {
     "data": {
      "image/png": "[encoded data removed]",
      "text/plain": [
       "<Figure size 432x288 with 1 Axes>"
      ]
     },
     "metadata": {
      "needs_background": "light"
     },
     "output_type": "display_data"
    }
   ],
   "source": [
    "minus_profit_df['hour_min'].hist(bins=100)"
   ]
  },
  {
   "cell_type": "code",
   "execution_count": 20,
   "metadata": {},
   "outputs": [],
   "source": [
    "df = pd.read_excel('../sample_data/chooser_experiment_KOSDAQ_20_80.xlsx')"
   ]
  },
  {
   "cell_type": "code",
   "execution_count": 21,
   "metadata": {},
   "outputs": [
    {
     "data": {
      "text/plain": [
       "Index(['Unnamed: 0', 'date', 'code', 'today_close', 'yesterday_close',\n",
       "       'profit', 'highest_time', 'highest_profit', 'lowest_time',\n",
       "       'lowest_profit', 'today_amount', 'yesterday_amount',\n",
       "       'yesterday_cum_buy', 'yesterday_cum_sell', 'today_cum_buy',\n",
       "       'today_cum_sell', 'amount_avg', 'cum_buy_avg', 'cum_sell_avg',\n",
       "       'avg_amount_rank', 'yesterday_rank', 'yesterday_moving_average',\n",
       "       'top_short', 'top_long', 'bottom_short', 'bottom_long'],\n",
       "      dtype='object')"
      ]
     },
     "execution_count": 21,
     "metadata": {},
     "output_type": "execute_result"
    }
   ],
   "source": [
    "df.columns"
   ]
  },
  {
   "cell_type": "code",
   "execution_count": 22,
   "metadata": {},
   "outputs": [],
   "source": [
    "df['month'] = df['highest_time'].apply(lambda x: x.month)\n",
    "df['variable'] = df[['highest_profit', 'lowest_profit']].apply(lambda x: abs(x[0] - x[1]))\n",
    "df['hour_min'] = df['highest_time'].apply(lambda x: datetime(now.year, now.month, now.day, x.hour, x.minute))"
   ]
  },
  {
   "cell_type": "markdown",
   "metadata": {},
   "source": [
    "#### Question: amount can affect to profit?"
   ]
  },
  {
   "cell_type": "code",
   "execution_count": 23,
   "metadata": {},
   "outputs": [],
   "source": [
    "rank_div_step = 100\n",
    "bins = pd.cut(df['yesterday_rank'], np.arange(0, df['yesterday_rank'].max(), df['yesterday_rank'].max() / rank_div_step))"
   ]
  },
  {
   "cell_type": "code",
   "execution_count": 27,
   "metadata": {
    "scrolled": true
   },
   "outputs": [
    {
     "name": "stdout",
     "output_type": "stream",
     "text": [
      "(0.0, 12.82] 0.38376218323586736 6.257337711726526 has profit 751 has loss 736\n",
      "(12.82, 25.64] 0.2046196660482375 4.757185913570272 has profit 754 has loss 775\n",
      "(25.64, 38.46] 0.1909628832705756 4.660102835481778 has profit 875 has loss 908\n",
      "(38.46, 51.28] 0.2492622509423802 4.630915862887164 has profit 894 has loss 886\n",
      "(51.28, 64.1] 0.0508310700706138 4.103570424990926 has profit 868 has loss 888\n",
      "(64.1, 76.92] 0.17319930069930073 4.298292584999525 has profit 812 has loss 836\n",
      "(76.92, 89.74] 0.10960731576116191 4.262996629780786 has profit 882 has loss 893\n",
      "(89.74, 102.56] 0.08065717415115008 3.620630052745571 has profit 868 has loss 864\n",
      "(102.56, 115.38] 0.05168539325842694 3.4360722723692056 has profit 847 has loss 871\n",
      "(115.38, 128.2] 0.31109141274238233 4.6646887870466 has profit 856 has loss 862\n",
      "(128.2, 141.02] 0.0655456852791878 4.727396057008159 has profit 734 has loss 771\n",
      "(141.02, 153.84] 0.13683566433566435 3.663777887208405 has profit 835 has loss 797\n",
      "(153.84, 166.66] 0.2763872679045093 4.182545071941091 has profit 910 has loss 902\n",
      "(166.66, 179.48] 0.11590958019375672 4.596208987404914 has profit 859 has loss 918\n",
      "(179.48, 192.3] 0.07542764927380313 3.779541546672576 has profit 875 has loss 912\n",
      "(192.3, 205.12] 0.09226465841850456 3.4473522363142264 has profit 882 has loss 882\n",
      "(205.12, 217.94] 0.029506561679790044 3.3219025612047446 has profit 874 has loss 933\n",
      "(217.94, 230.76] 0.07357719203873045 3.850390157608564 has profit 866 has loss 894\n",
      "(230.76, 243.58] 0.17976856835306781 3.7766805094814457 has profit 867 has loss 883\n",
      "(243.58, 256.4] 0.140726196880043 3.6506385244188513 has profit 873 has loss 900\n",
      "(256.4, 269.22] -0.01785252960172226 3.592771742625916 has profit 835 has loss 935\n",
      "(269.22, 282.04] -0.0157931034482759 3.811165177508009 has profit 870 has loss 920\n",
      "(282.04, 294.86] 0.07752236751548518 3.912950920206066 has profit 648 has loss 707\n",
      "(294.86, 307.68] 0.11427485062466052 3.6027650957681994 has profit 861 has loss 885\n",
      "(307.68, 320.5] 0.009000546149645013 4.385589085116955 has profit 808 has loss 917\n",
      "(320.5, 333.32] -0.09046511627906975 3.7168372459060017 has profit 833 has loss 897\n",
      "(333.32, 346.14] -0.005524691358024689 4.327557345774277 has profit 912 has loss 934\n",
      "(346.14, 358.96] 0.02787439613526568 3.4676263957450653 has profit 746 has loss 799\n",
      "(358.96, 371.78] 0.04275362318840579 3.58909272153397 has profit 888 has loss 983\n",
      "(371.78, 384.6] -0.08825635103926098 3.5165178057081676 has profit 766 has loss 886\n",
      "(384.6, 397.42] 0.11023706896551726 4.689942217455051 has profit 861 has loss 895\n",
      "(397.42, 410.24] -0.0408086096567772 4.132074698401977 has profit 757 has loss 865\n",
      "(410.24, 423.06] -0.0463041065482797 3.8114059209937383 has profit 796 has loss 901\n",
      "(423.06, 435.88] 0.0033781414377557074 3.5434503846209644 has profit 783 has loss 840\n",
      "(435.88, 448.7] -0.006607142857142846 4.000388004109709 has profit 869 has loss 896\n",
      "(448.7, 461.52] 0.1364335664335664 4.692103634853716 has profit 834 has loss 916\n",
      "(461.52, 474.34] 0.012415277030661653 3.865366566711589 has profit 850 has loss 894\n",
      "(474.34, 487.16] 0.009365250134480925 3.3085116321582677 has profit 836 has loss 902\n",
      "(487.16, 499.98] -0.0032711370262390503 3.0606136415509697 has profit 781 has loss 839\n",
      "(499.98, 512.8] -0.010220548682087166 3.4205365980670908 has profit 846 has loss 912\n",
      "(512.8, 525.62] -0.032118551042810126 3.3439271816790153 has profit 822 has loss 894\n",
      "(525.62, 538.44] -0.01989601386481803 2.9978297141367087 has profit 749 has loss 847\n",
      "(538.44, 551.26] -0.0470766855378281 3.859700766642343 has profit 860 has loss 956\n",
      "(551.26, 564.08] 0.006724045185583649 3.330180462130037 has profit 850 has loss 911\n",
      "(564.08, 576.9] 0.05583916083916085 3.1790901288867337 has profit 790 has loss 831\n",
      "(576.9, 589.72] -0.019026358257127497 3.3940738369727064 has profit 874 has loss 884\n",
      "(589.72, 602.54] 0.14186659494351803 3.6706557125422608 has profit 855 has loss 884\n",
      "(602.54, 615.36] 0.19979238754325263 4.498484615350038 has profit 823 has loss 800\n",
      "(615.36, 628.18] 0.021107344632768362 3.5196959043708684 has profit 817 has loss 834\n",
      "(628.18, 641.0] -0.0425028702640643 3.238170792124677 has profit 787 has loss 875\n",
      "(641.0, 653.82] -0.08402366863905325 4.351420804631247 has profit 734 has loss 846\n",
      "(653.82, 666.64] -0.02559002770083101 3.3431170062409015 has profit 817 has loss 891\n",
      "(666.64, 679.46] -0.005847229693383527 3.8321108537715576 has profit 827 has loss 921\n",
      "(679.46, 692.28] -0.04278794402583422 3.27217608428628 has profit 842 has loss 927\n",
      "(692.28, 705.1] 0.050430338891877355 3.9310824437573517 has profit 855 has loss 895\n",
      "(705.1, 717.92] -0.016519337016574577 2.912547914481825 has profit 648 has loss 702\n",
      "(717.92, 730.74] 0.050586968228325244 3.427147204815154 has profit 836 has loss 886\n",
      "(730.74, 743.56] -0.07183550651955868 3.3345169895293956 has profit 874 has loss 986\n",
      "(743.56, 756.38] 0.0465339074273412 3.5926448736458014 has profit 798 has loss 917\n",
      "(756.38, 769.2] -0.022044109736417454 3.4992829984008442 has profit 856 has loss 893\n",
      "(769.2, 782.02] -0.037866811044937734 3.3269072109170317 has profit 830 has loss 887\n",
      "(782.02, 794.84] 0.015976676384839662 2.9539738516742458 has profit 769 has loss 835\n",
      "(794.84, 807.66] -0.029644012944983845 3.6685977243877415 has profit 803 has loss 895\n",
      "(807.66, 820.48] -0.096235 2.785133472385929 has profit 853 has loss 987\n",
      "(820.48, 833.3] -0.001766068326577879 3.313279324227637 has profit 800 has loss 841\n",
      "(833.3, 846.12] -0.05024744486282945 3.6006033227085976 has profit 871 has loss 887\n",
      "(846.12, 858.94] -0.06622377622377622 2.9033977612114295 has profit 788 has loss 812\n",
      "(858.94, 871.76] -0.052682926829268284 2.4919805607144148 has profit 732 has loss 828\n",
      "(871.76, 884.58] -0.04688542227003766 3.0131432281497945 has profit 820 has loss 912\n",
      "(884.58, 897.4] 0.06063474986551909 3.3704893272586163 has profit 854 has loss 886\n",
      "(897.4, 910.22] -0.1053523399677246 3.4617110048137953 has profit 841 has loss 918\n",
      "(910.22, 923.04] -0.11199677072120562 3.425175890753046 has profit 826 has loss 952\n",
      "(923.04, 935.86] -0.040501165501165504 3.054109669140201 has profit 775 has loss 841\n",
      "(935.86, 948.68] -0.1438905592303067 3.136126356625045 has profit 687 has loss 854\n",
      "(948.68, 961.5] -0.08302313071543839 3.177815730160825 has profit 855 has loss 875\n",
      "(961.5, 974.32] 0.03466955579631636 3.366627315911783 has profit 828 has loss 902\n",
      "(974.32, 987.14] -0.010871905274488726 3.0913172640978384 has profit 830 has loss 886\n",
      "(987.14, 999.96] -0.017791375291375283 2.5628482844376697 has profit 773 has loss 830\n",
      "(999.96, 1012.78] -0.02899408284023667 2.87818346413985 has profit 835 has loss 854\n",
      "(1012.78, 1025.6] 0.023369447453954473 3.1068421425403887 has profit 840 has loss 898\n",
      "(1025.6, 1038.42] -0.08813878429263045 2.6386723959259024 has profit 808 has loss 905\n",
      "(1038.42, 1051.24] -0.06224348750664539 3.1910680807531273 has profit 830 has loss 954\n",
      "(1051.24, 1064.06] -0.020037654653039274 2.6518282680585825 has profit 828 has loss 873\n",
      "(1064.06, 1076.88] -0.12261709601873537 3.009140965568487 has profit 765 has loss 837\n",
      "(1076.88, 1089.7] -0.1312380416432189 2.8363884770101544 has profit 770 has loss 888\n",
      "(1089.7, 1102.52] -0.07599246906939214 2.544666010374761 has profit 845 has loss 882\n",
      "(1102.52, 1115.34] -0.11643880926130099 2.63974392391445 has profit 801 has loss 889\n",
      "(1115.34, 1128.16] -0.09606766500277314 2.365892235688389 has profit 790 has loss 860\n",
      "(1128.16, 1140.98] -0.07784277879341865 3.1569056673172216 has profit 738 has loss 828\n",
      "(1140.98, 1153.8] -0.08198285714285718 2.540542796579049 has profit 770 has loss 827\n",
      "(1153.8, 1166.62] -0.09263044647660032 2.198336517235756 has profit 790 has loss 910\n",
      "(1166.62, 1179.44] -0.060059171597633146 2.7623863427311544 has profit 821 has loss 893\n",
      "(1179.44, 1192.26] -0.05212190914318575 2.3529966534086686 has profit 762 has loss 808\n",
      "(1192.26, 1205.08] -0.10374421296296298 2.099439812086939 has profit 746 has loss 847\n",
      "(1205.08, 1217.9] -0.04479274611398962 2.2038667682351862 has profit 644 has loss 719\n",
      "(1217.9, 1230.72] -0.04167883211678833 2.2951921513023663 has profit 781 has loss 845\n",
      "(1230.72, 1243.54] -0.1106714628297362 2.2827444894898155 has profit 691 has loss 807\n",
      "(1243.54, 1256.36] -0.05330558858501783 1.7024846281066977 has profit 724 has loss 716\n",
      "(1256.36, 1269.18] -0.017121982210927568 1.646454446912918 has profit 583 has loss 619\n"
     ]
    }
   ],
   "source": [
    "yesterday_rank_df = pd.DataFrame(columns=['group', 'mean_profit'])\n",
    "i = 0\n",
    "for name, group in df.groupby(bins):\n",
    "    print(name, group['profit'].mean(), group['profit'].std(), 'has profit', len(group[group['profit'] > 0]), 'has loss', len(group[group['profit'] < 0]))\n",
    "    yesterday_rank_df = yesterday_rank_df.append({'group': name.right, 'mean_profit': group['profit'].mean()}, ignore_index=True)\n",
    "    i += 1"
   ]
  },
  {
   "cell_type": "code",
   "execution_count": 28,
   "metadata": {},
   "outputs": [
    {
     "data": {
      "text/plain": [
       "<matplotlib.axes._subplots.AxesSubplot at 0x15644130>"
      ]
     },
     "execution_count": 28,
     "metadata": {},
     "output_type": "execute_result"
    },
    {
     "data": {
      "image/png": "[encoded data removed]",
      "text/plain": [
       "<Figure size 432x288 with 1 Axes>"
      ]
     },
     "metadata": {
      "needs_background": "light"
     },
     "output_type": "display_data"
    }
   ],
   "source": [
    "yesterday_rank_df.plot(x='group', y='mean_profit')"
   ]
  },
  {
   "cell_type": "markdown",
   "metadata": {},
   "source": [
    "#### Answer: yesterday amount has a relationship with today profit (around group < 150 is positive)"
   ]
  },
  {
   "cell_type": "markdown",
   "metadata": {},
   "source": [
    "#### Question: when yesterday amount is over amount average, have a influence to profit"
   ]
  },
  {
   "cell_type": "code",
   "execution_count": 29,
   "metadata": {},
   "outputs": [],
   "source": [
    "yesterday_over_amount_df = df[df['yesterday_amount'] > df['amount_avg']]"
   ]
  },
  {
   "cell_type": "code",
   "execution_count": 30,
   "metadata": {},
   "outputs": [
    {
     "data": {
      "text/plain": [
       "0.036466184273998996"
      ]
     },
     "execution_count": 30,
     "metadata": {},
     "output_type": "execute_result"
    }
   ],
   "source": [
    "yesterday_over_amount_df['profit'].mean()"
   ]
  },
  {
   "cell_type": "code",
   "execution_count": 31,
   "metadata": {},
   "outputs": [],
   "source": [
    "yesterday_under_amount_df = df[df['yesterday_amount'] < df['amount_avg']]"
   ]
  },
  {
   "cell_type": "code",
   "execution_count": 32,
   "metadata": {},
   "outputs": [
    {
     "data": {
      "text/plain": [
       "0.00154618049852569"
      ]
     },
     "execution_count": 32,
     "metadata": {},
     "output_type": "execute_result"
    }
   ],
   "source": [
    "yesterday_under_amount_df['profit'].mean()"
   ]
  },
  {
   "cell_type": "code",
   "execution_count": 33,
   "metadata": {},
   "outputs": [],
   "source": [
    "amount_rank_df = df[df['yesterday_rank'] < 150]"
   ]
  },
  {
   "cell_type": "code",
   "execution_count": 34,
   "metadata": {},
   "outputs": [
    {
     "data": {
      "text/plain": [
       "0.16552524609432395"
      ]
     },
     "execution_count": 34,
     "metadata": {},
     "output_type": "execute_result"
    }
   ],
   "source": [
    "amount_rank_df['profit'].mean()"
   ]
  },
  {
   "cell_type": "code",
   "execution_count": 35,
   "metadata": {},
   "outputs": [],
   "source": [
    "amount_rank_df = df[(df['yesterday_rank'] < 150) & (df['yesterday_amount'] > df['amount_avg'])]"
   ]
  },
  {
   "cell_type": "code",
   "execution_count": 36,
   "metadata": {},
   "outputs": [
    {
     "data": {
      "text/plain": [
       "0.18681135721718442"
      ]
     },
     "execution_count": 36,
     "metadata": {},
     "output_type": "execute_result"
    }
   ],
   "source": [
    "amount_rank_df['profit'].mean()"
   ]
  },
  {
   "cell_type": "code",
   "execution_count": 37,
   "metadata": {},
   "outputs": [],
   "source": [
    "amount_rank_df = df[(df['yesterday_rank'] < 150) & (df['yesterday_amount'] < df['amount_avg'])]"
   ]
  },
  {
   "cell_type": "code",
   "execution_count": 38,
   "metadata": {},
   "outputs": [
    {
     "data": {
      "text/plain": [
       "0.15661237309181217"
      ]
     },
     "execution_count": 38,
     "metadata": {},
     "output_type": "execute_result"
    }
   ],
   "source": [
    "amount_rank_df['profit'].mean()"
   ]
  },
  {
   "cell_type": "markdown",
   "metadata": {},
   "source": [
    "#### Anwser: no big profit, but compare to vice versa, difference is big enough"
   ]
  },
  {
   "cell_type": "markdown",
   "metadata": {},
   "source": [
    "#### Question: yesterday's cum buy is greater than cum sell, have a relationship?"
   ]
  },
  {
   "cell_type": "code",
   "execution_count": 39,
   "metadata": {},
   "outputs": [],
   "source": [
    "yesterday_cum_greater = df[df['yesterday_cum_buy'] > df['yesterday_cum_sell']]"
   ]
  },
  {
   "cell_type": "code",
   "execution_count": 40,
   "metadata": {},
   "outputs": [
    {
     "data": {
      "text/plain": [
       "0.18033275951398056"
      ]
     },
     "execution_count": 40,
     "metadata": {},
     "output_type": "execute_result"
    }
   ],
   "source": [
    "yesterday_cum_greater['profit'].mean()"
   ]
  },
  {
   "cell_type": "code",
   "execution_count": 41,
   "metadata": {},
   "outputs": [],
   "source": [
    "yesterday_cum_greater = df[df['yesterday_cum_buy'] < df['yesterday_cum_sell']]"
   ]
  },
  {
   "cell_type": "code",
   "execution_count": 42,
   "metadata": {},
   "outputs": [
    {
     "data": {
      "text/plain": [
       "-0.07188774657305248"
      ]
     },
     "execution_count": 42,
     "metadata": {},
     "output_type": "execute_result"
    }
   ],
   "source": [
    "yesterday_cum_greater['profit'].mean()"
   ]
  },
  {
   "cell_type": "code",
   "execution_count": 54,
   "metadata": {},
   "outputs": [],
   "source": [
    "amount_rank_df = df[(df['yesterday_rank'] < 150) & (df['yesterday_amount'] > df['amount_avg']) & (df['yesterday_cum_buy'] > df['yesterday_cum_sell']) & (df['yesterday_moving_average'] < df['yesterday_close'])]"
   ]
  },
  {
   "cell_type": "code",
   "execution_count": 64,
   "metadata": {},
   "outputs": [
    {
     "name": "stdout",
     "output_type": "stream",
     "text": [
      "0.41798608426749134\n",
      "5.261795191186212\n"
     ]
    }
   ],
   "source": [
    "print(amount_rank_df['profit'].mean())\n",
    "print(amount_rank_df['profit'].std())"
   ]
  },
  {
   "cell_type": "code",
   "execution_count": 65,
   "metadata": {
    "scrolled": true
   },
   "outputs": [
    {
     "name": "stdout",
     "output_type": "stream",
     "text": [
      "0.010796843786343498\n",
      "3.5024283894987702\n"
     ]
    }
   ],
   "source": [
    "print(df['profit'].mean())\n",
    "print(df['profit'].std())"
   ]
  },
  {
   "cell_type": "code",
   "execution_count": 63,
   "metadata": {},
   "outputs": [
    {
     "name": "stdout",
     "output_type": "stream",
     "text": [
      "1179 1298\n",
      "47.59790068631409\n",
      "81085 86889\n",
      "48.272351673473274\n",
      "81085 86889\n"
     ]
    }
   ],
   "source": [
    "print(len(amount_rank_df[amount_rank_df['profit'] > 0]), len(amount_rank_df[amount_rank_df['profit'] < 0]))\n",
    "has_profit_len = len(amount_rank_df[amount_rank_df['profit'] > 0])\n",
    "has_loss_len = len(amount_rank_df[amount_rank_df['profit'] < 0])\n",
    "print(has_profit_len / (has_profit_len + has_loss_len) * 100)\n",
    "print(len(df[df['profit'] > 0]), len(df[df['profit'] < 0]))\n",
    "has_profit_len = len(df[df['profit'] > 0])\n",
    "has_loss_len = len(df[df['profit'] < 0])\n",
    "print(has_profit_len / (has_profit_len + has_loss_len) * 100)\n",
    "print(len(df[df['profit'] > 0]), len(df[df['profit'] < 0]))"
   ]
  },
  {
   "cell_type": "code",
   "execution_count": 56,
   "metadata": {},
   "outputs": [
    {
     "data": {
      "text/plain": [
       "<matplotlib.axes._subplots.AxesSubplot at 0x14679e10>"
      ]
     },
     "execution_count": 56,
     "metadata": {},
     "output_type": "execute_result"
    },
    {
     "data": {
      "image/png": "[encoded data removed]",
      "text/plain": [
       "<Figure size 432x288 with 1 Axes>"
      ]
     },
     "metadata": {
      "needs_background": "light"
     },
     "output_type": "display_data"
    }
   ],
   "source": [
    "amount_rank_df['hour_min'].hist(bins=40)"
   ]
  },
  {
   "cell_type": "markdown",
   "metadata": {},
   "source": [
    "#### Answer: yesterday cum buy / sell has a big influence to today's profit (extra: day's trend line has to improve algorithm for application), but does not mean count of stock is over half (standard deviation is big which means when will buy and sell affect to profit)"
   ]
  },
  {
   "cell_type": "code",
   "execution_count": null,
   "metadata": {},
   "outputs": [],
   "source": []
  }
 ],
 "metadata": {
  "kernelspec": {
   "display_name": "Python 3",
   "language": "python",
   "name": "python3"
  },
  "language_info": {
   "codemirror_mode": {
    "name": "ipython",
    "version": 3
   },
   "file_extension": ".py",
   "mimetype": "text/x-python",
   "name": "python",
   "nbconvert_exporter": "python",
   "pygments_lexer": "ipython3",
   "version": "3.7.5"
  }
 },
 "nbformat": 4,
 "nbformat_minor": 2
}
