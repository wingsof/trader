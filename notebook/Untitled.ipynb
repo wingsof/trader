{
 "cells": [
  {
   "cell_type": "code",
   "execution_count": 5,
   "metadata": {},
   "outputs": [],
   "source": [
    "import sys\n",
    "import os\n",
    "sys.path.insert(0, os.path.abspath(os.path.join(*(['..' + os.sep] * 1))))\n",
    "\n",
    "from datetime import date\n",
    "\n",
    "from morning.pipeline.chooser.cybos.db.kosdaq_search_bull_chooser import KosdaqSearchBullChooser\n",
    "from morning.back_data.fetch_stock_data import get_day_minute_period_data\n",
    "from morning_main.trend_record.kosdaq_trend import KosdaqTrend"
   ]
  },
  {
   "cell_type": "code",
   "execution_count": 2,
   "metadata": {},
   "outputs": [],
   "source": [
    "from_date = date(2019, 12, 18)\n",
    "ksbc = KosdaqSearchBullChooser(from_date)"
   ]
  },
  {
   "cell_type": "code",
   "execution_count": 4,
   "metadata": {},
   "outputs": [
    {
     "name": "stdout",
     "output_type": "stream",
     "text": [
      "INSERT A000250_M 344\n",
      "INSERT A000440_M 44\n",
      "INSERT A001000_M 174\n",
      "INSERT A001540_M 135\n",
      "INSERT A001810_M 30\n",
      "INSERT A001840_M 109\n",
      "INSERT A002230_M 107\n",
      "INSERT A002290_M 163\n",
      "INSERT A002680_M 35\n",
      "INSERT A002800_M 210\n",
      "INSERT A003100_M 40\n",
      "INSERT A003310_M 174\n",
      "INSERT A003380_M 375\n",
      "INSERT A003800_M 26\n",
      "INSERT A004590_M 107\n",
      "INSERT A004650_M 64\n",
      "INSERT A004780_M 193\n",
      "INSERT A005160_M 189\n",
      "INSERT A005670_M 139\n",
      "INSERT A005710_M 31\n",
      "INSERT A005860_M 152\n",
      "INSERT A005990_M 34\n",
      "INSERT A006050_M 354\n",
      "INSERT A006140_M 43\n",
      "INSERT A006580_M 128\n",
      "INSERT A006620_M 148\n",
      "INSERT A006730_M 365\n",
      "INSERT A006910_M 186\n",
      "INSERT A006920_M 176\n",
      "INSERT A007330_M 72\n",
      "INSERT A007370_M 178\n",
      "INSERT A007390_M 381\n",
      "INSERT A007530_M 78\n",
      "INSERT A007680_M 80\n",
      "INSERT A007720_M 144\n",
      "INSERT A007770_M 77\n",
      "INSERT A007820_M 201\n",
      "INSERT A008290_M 329\n",
      "INSERT A008370_M 50\n"
     ]
    }
   ],
   "source": [
    "for code in ksbc.codes:\n",
    "    get_day_minute_period_data(code, from_date, from_date)"
   ]
  },
  {
   "cell_type": "code",
   "execution_count": 6,
   "metadata": {},
   "outputs": [
    {
     "name": "stdout",
     "output_type": "stream",
     "text": [
      "INSERT U201_D 1\n"
     ]
    }
   ],
   "source": [
    "kt = KosdaqTrend(from_date)"
   ]
  },
  {
   "cell_type": "code",
   "execution_count": null,
   "metadata": {},
   "outputs": [],
   "source": []
  }
 ],
 "metadata": {
  "kernelspec": {
   "display_name": "Python 3",
   "language": "python",
   "name": "python3"
  },
  "language_info": {
   "codemirror_mode": {
    "name": "ipython",
    "version": 3
   },
   "file_extension": ".py",
   "mimetype": "text/x-python",
   "name": "python",
   "nbconvert_exporter": "python",
   "pygments_lexer": "ipython3",
   "version": "3.7.5"
  }
 },
 "nbformat": 4,
 "nbformat_minor": 2
}
