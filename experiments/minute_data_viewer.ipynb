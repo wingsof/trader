{
 "cells": [
  {
   "cell_type": "code",
   "execution_count": 1,
   "metadata": {},
   "outputs": [],
   "source": [
    "import sys\n",
    "import os\n",
    "sys.path.insert(0, os.path.abspath(os.path.join(*(['..' + os.sep] * 1))))\n",
    "\n",
    "from datetime import date\n",
    "\n",
    "from morning.pipeline.stream.cybos.stock.db.min_tick import MinTick\n",
    "from morning.pipeline.converter.cybos.stock.day_tick import StockDayTickConverter\n",
    "from morning.pipeline.chooser.cybos.db.kosdaq_all_chooser import KosdaqAllChooser\n",
    "from morning.pipeline.strategy.stock.minute_suppressed import MinuteSuppressed\n",
    "from morning.needle.tick_min_graph_needle import TickMinGraphNeedle\n",
    "from morning.pipeline.stream.cybos.stock.db.min_excel_tick import MinExcelTick\n",
    "from morning.needle.tick_excel_needle import TickExcelNeedle\n",
    "\n",
    "from morning.back_data.fetch_stock_data import get_day_minute_period_data, get_day_period_data\n",
    "from morning.back_data.holidays import get_yesterday"
   ]
  },
  {
   "cell_type": "code",
   "execution_count": 2,
   "metadata": {},
   "outputs": [
    {
     "name": "stdout",
     "output_type": "stream",
     "text": [
      "2018-05-01\n",
      "[]\n"
     ]
    },
    {
     "ename": "IndexError",
     "evalue": "list index out of range",
     "output_type": "error",
     "traceback": [
      "\u001b[1;31m---------------------------------------------------------------------------\u001b[0m",
      "\u001b[1;31mIndexError\u001b[0m                                Traceback (most recent call last)",
      "\u001b[1;32m<ipython-input-2-d8dfa2ae52e2>\u001b[0m in \u001b[0;36m<module>\u001b[1;34m\u001b[0m\n\u001b[0;32m      3\u001b[0m \u001b[0mprint\u001b[0m\u001b[1;33m(\u001b[0m\u001b[0mget_yesterday\u001b[0m\u001b[1;33m(\u001b[0m\u001b[0mfrom_date\u001b[0m\u001b[1;33m)\u001b[0m\u001b[1;33m)\u001b[0m\u001b[1;33m\u001b[0m\u001b[1;33m\u001b[0m\u001b[0m\n\u001b[0;32m      4\u001b[0m \u001b[0mprint\u001b[0m\u001b[1;33m(\u001b[0m\u001b[0mget_day_period_data\u001b[0m\u001b[1;33m(\u001b[0m\u001b[0mcode\u001b[0m\u001b[1;33m,\u001b[0m \u001b[0mget_yesterday\u001b[0m\u001b[1;33m(\u001b[0m\u001b[0mfrom_date\u001b[0m\u001b[1;33m)\u001b[0m\u001b[1;33m,\u001b[0m \u001b[0mget_yesterday\u001b[0m\u001b[1;33m(\u001b[0m\u001b[0mfrom_date\u001b[0m\u001b[1;33m)\u001b[0m\u001b[1;33m)\u001b[0m\u001b[1;33m)\u001b[0m\u001b[1;33m\u001b[0m\u001b[1;33m\u001b[0m\u001b[0m\n\u001b[1;32m----> 5\u001b[1;33m \u001b[0mprint\u001b[0m\u001b[1;33m(\u001b[0m\u001b[1;34m'YESTERDAY'\u001b[0m\u001b[1;33m,\u001b[0m \u001b[0mget_day_period_data\u001b[0m\u001b[1;33m(\u001b[0m\u001b[0mcode\u001b[0m\u001b[1;33m,\u001b[0m \u001b[0mget_yesterday\u001b[0m\u001b[1;33m(\u001b[0m\u001b[0mfrom_date\u001b[0m\u001b[1;33m)\u001b[0m\u001b[1;33m,\u001b[0m \u001b[0mget_yesterday\u001b[0m\u001b[1;33m(\u001b[0m\u001b[0mfrom_date\u001b[0m\u001b[1;33m)\u001b[0m\u001b[1;33m)\u001b[0m\u001b[1;33m[\u001b[0m\u001b[1;36m0\u001b[0m\u001b[1;33m]\u001b[0m\u001b[1;33m[\u001b[0m\u001b[1;34m'7'\u001b[0m\u001b[1;33m]\u001b[0m\u001b[1;33m)\u001b[0m\u001b[1;33m\u001b[0m\u001b[1;33m\u001b[0m\u001b[0m\n\u001b[0m\u001b[0;32m      6\u001b[0m \u001b[0mprint\u001b[0m\u001b[1;33m(\u001b[0m\u001b[1;34m'TODAY'\u001b[0m\u001b[1;33m,\u001b[0m \u001b[0mget_day_period_data\u001b[0m\u001b[1;33m(\u001b[0m\u001b[0mcode\u001b[0m\u001b[1;33m,\u001b[0m \u001b[0mfrom_date\u001b[0m\u001b[1;33m,\u001b[0m \u001b[0mfrom_date\u001b[0m\u001b[1;33m)\u001b[0m\u001b[1;33m[\u001b[0m\u001b[1;36m0\u001b[0m\u001b[1;33m]\u001b[0m\u001b[1;33m[\u001b[0m\u001b[1;34m'7'\u001b[0m\u001b[1;33m]\u001b[0m\u001b[1;33m)\u001b[0m\u001b[1;33m\u001b[0m\u001b[1;33m\u001b[0m\u001b[0m\n\u001b[0;32m      7\u001b[0m \"\"\"\n",
      "\u001b[1;31mIndexError\u001b[0m: list index out of range"
     ]
    }
   ],
   "source": [
    "from_date = date(2018, 5, 2)\n",
    "code = 'A071950'\n",
    "print(get_yesterday(from_date))\n",
    "print(holidays._)\n",
    "print(get_day_period_data(code, get_yesterday(from_date), get_yesterday(from_date)))\n",
    "print('YESTERDAY', get_day_period_data(code, get_yesterday(from_date), get_yesterday(from_date))[0]['7'])\n",
    "print('TODAY', get_day_period_data(code, from_date, from_date)[0]['7'])\n",
    "\"\"\"\n",
    "data = get_day_minute_period_data(code, from_date, from_date)\n",
    "len(data)\n",
    "from morning_main.trend_record.kosdaq_trend import KosdaqTrend\n",
    "KosdaqTrend(from_date)\n",
    "\"\"\""
   ]
  },
  {
   "cell_type": "code",
   "execution_count": null,
   "metadata": {
    "scrolled": true
   },
   "outputs": [],
   "source": [
    "\n",
    "class Decision:\n",
    "    def __init__(self):\n",
    "        pass\n",
    "    \n",
    "    def received(self, datas):\n",
    "        print(datas)\n",
    "        \n",
    "    def finalize(self):\n",
    "        print('finalize')\n",
    "\n",
    "min_tick = MinTick(from_date)\n",
    "min_tick.set_target(code)\n",
    "sdtc = StockDayTickConverter()\n",
    "\n",
    "needle = TickMinGraphNeedle()\n",
    "\n",
    "min_tick.set_output(sdtc)\n",
    "ms = MinuteSuppressed()\n",
    "ms.add_graph(needle)\n",
    "sdtc.set_output(ms)\n",
    "\n",
    "decision = Decision()\n",
    "ms.set_output(decision)\n",
    "\n",
    "while min_tick.received(None) > 0:\n",
    "    pass\n",
    "\n",
    "min_tick.finalize()\n",
    "needle.figure"
   ]
  },
  {
   "cell_type": "code",
   "execution_count": null,
   "metadata": {},
   "outputs": [],
   "source": []
  },
  {
   "cell_type": "code",
   "execution_count": null,
   "metadata": {},
   "outputs": [],
   "source": []
  }
 ],
 "metadata": {
  "kernelspec": {
   "display_name": "Python 3",
   "language": "python",
   "name": "python3"
  },
  "language_info": {
   "codemirror_mode": {
    "name": "ipython",
    "version": 3
   },
   "file_extension": ".py",
   "mimetype": "text/x-python",
   "name": "python",
   "nbconvert_exporter": "python",
   "pygments_lexer": "ipython3",
   "version": "3.7.5"
  }
 },
 "nbformat": 4,
 "nbformat_minor": 2
}
